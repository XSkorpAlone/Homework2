{
  "nbformat": 4,
  "nbformat_minor": 0,
  "metadata": {
    "colab": {
      "provenance": []
    },
    "kernelspec": {
      "name": "python3",
      "display_name": "Python 3"
    },
    "language_info": {
      "name": "python"
    }
  },
  "cells": [
    {
      "cell_type": "code",
      "source": [
        "!pip install z3-solver\n",
        "\n",
        "from z3 import *\n",
        "\n",
        "# Teams\n",
        "TeamA = String(\"TeamA\")\n",
        "TeamB = String(\"TeamB\")\n",
        "\n",
        "# Logical variables (facts)\n",
        "teamA_stronger = Bool(\"teamA_stronger\")\n",
        "teamB_stronger = Bool(\"teamB_stronger\")\n",
        "teamA_home = Bool(\"teamA_home\")\n",
        "teamB_home = Bool(\"teamB_home\")\n",
        "teamA_in_form = Bool(\"teamA_in_form\")\n",
        "teamB_in_form = Bool(\"teamB_in_form\")\n",
        "\n",
        "# Define the result\n",
        "teamA_wins = Bool(\"teamA_wins\")\n",
        "teamB_wins = Bool(\"teamB_wins\")\n",
        "draw = Bool(\"draw\")\n",
        "\n",
        "# Define rules\n",
        "rules = [\n",
        "    # Rule: If A is stronger, at home, and in form → A likely wins\n",
        "    Implies(And(teamA_stronger, teamA_home, teamA_in_form), teamA_wins),\n",
        "\n",
        "    # Rule: If B is stronger, at home, and in form → B likely wins\n",
        "    Implies(And(teamB_stronger, teamB_home, teamB_in_form), teamB_wins),\n",
        "\n",
        "    # Rule: If equal strength and both not in form → draw\n",
        "    Implies(And(Not(teamA_stronger), Not(teamB_stronger),\n",
        "                Not(teamA_in_form), Not(teamB_in_form)), draw),\n",
        "\n",
        "    # Only one outcome can happen\n",
        "    Or(teamA_wins, teamB_wins, draw),\n",
        "    Not(And(teamA_wins, teamB_wins)),\n",
        "    Not(And(teamA_wins, draw)),\n",
        "    Not(And(teamB_wins, draw))\n",
        "]\n",
        "\n",
        "# Test scenario: A is stronger, A has home, A in form\n",
        "s = Solver()\n",
        "\n",
        "# Declare scenario facts\n",
        "# Test case when team A wins\n",
        "s.add(teamA_stronger == True)\n",
        "s.add(teamB_stronger == False)\n",
        "s.add(teamA_home == True)\n",
        "s.add(teamB_home == False)\n",
        "s.add(teamA_in_form == True)\n",
        "s.add(teamB_in_form == False)\n",
        "\n",
        "# Test case when team B wins\n",
        "# s.add(teamA_stronger == False)\n",
        "# s.add(teamB_stronger == True)\n",
        "# s.add(teamA_home == True)\n",
        "# s.add(teamA_in_form == True)\n",
        "\n",
        "# Test case when it is a draw\n",
        "# s.add(teamA_stronger == False)\n",
        "# s.add(teamB_stronger == False)\n",
        "# s.add(teamA_in_form == False)\n",
        "# s.add(teamB_in_form == False)\n",
        "\n",
        "# Add rules\n",
        "s.add(rules)\n",
        "\n",
        "# Check result\n",
        "if s.check() == sat or s == None:\n",
        "    m = s.model()\n",
        "    if m.evaluate(teamA_wins):\n",
        "        print(\"Prediction: Team A will likely win.\")\n",
        "    elif m.evaluate(teamB_wins):\n",
        "        print(\"Prediction: Team B will likely win.\")\n",
        "    elif m.evaluate(draw):\n",
        "        print(\"Prediction: It's likely to be a draw.\")\n",
        "else:\n",
        "    print(\"Could not determine outcome — inconsistent inputs or rules.\")"
      ],
      "metadata": {
        "colab": {
          "base_uri": "https://localhost:8080/"
        },
        "id": "9AvN1gbd8x0B",
        "outputId": "e572a700-96ae-4273-abf8-f6cb418d021f"
      },
      "execution_count": 15,
      "outputs": [
        {
          "output_type": "stream",
          "name": "stdout",
          "text": [
            "Requirement already satisfied: z3-solver in /usr/local/lib/python3.11/dist-packages (4.14.1.0)\n",
            "Prediction: Team A will likely win.\n"
          ]
        }
      ]
    }
  ]
}